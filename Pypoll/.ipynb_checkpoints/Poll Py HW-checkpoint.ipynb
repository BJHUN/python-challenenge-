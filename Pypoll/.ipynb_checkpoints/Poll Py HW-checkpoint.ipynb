{
 "cells": [
  {
   "cell_type": "code",
   "execution_count": 196,
   "id": "a20c3002",
   "metadata": {},
   "outputs": [],
   "source": [
    "import csv\n",
    "import os\n",
    "\n",
    "csvpath = os.path.join(\"\",\"Resources\",\"election_data.csv\")\n",
    "file_to_output=\"pypoll.txt\"\n",
    "total_votes= 0\n",
    "candi_votes = {}\n",
    "candi_options= []\n",
    "winner = \"\"\n",
    "winner_count= 0\n",
    "\n",
    "with open(csvpath) as csvfile:\n",
    "    reader = csv.DictReader(csvfile)\n",
    "    for row in reader:\n",
    "        total_votes = total_votes + 1\n",
    "        candi_name = row[\"Candidate\"]\n",
    "        if candi_name not in candi_options:\n",
    "            candi_options.append(candi_name)\n",
    "            candi_votes[candi_name]= 0   \n",
    "        candi_votes[candi_name] = candi_votes[candi_name] + 1\n",
    "            \n"
   ]
  },
  {
   "cell_type": "code",
   "execution_count": 197,
   "id": "9983fbc5",
   "metadata": {},
   "outputs": [
    {
     "name": "stdout",
     "output_type": "stream",
     "text": [
      "\n",
      "Election Results\n",
      "---------------------\n",
      "Total: 3521001\n",
      "---------------------\n",
      "\n"
     ]
    }
   ],
   "source": [
    "with open(file_to_output, \"w\") as txt_file:\n",
    "    election_results = (\n",
    "    f\"\\nElection Results\\n\"\n",
    "    f\"---------------------\\n\"\n",
    "    f\"Total: {total_votes}\\n\"\n",
    "    f\"---------------------\\n\")\n",
    "    \n",
    "    print(election_results)\n",
    "    txt_file.write(election_results)"
   ]
  },
  {
   "cell_type": "code",
   "execution_count": 198,
   "id": "8065b1d3",
   "metadata": {},
   "outputs": [
    {
     "name": "stdout",
     "output_type": "stream",
     "text": [
      "Khan: 63.000% (2218231)\n",
      "\n",
      "Correy: 20.000% (704200)\n",
      "\n",
      "Li: 14.000% (492940)\n",
      "\n",
      "O'Tooley: 3.000% (105630)\n",
      "\n"
     ]
    }
   ],
   "source": [
    "for candidate in candi_votes:\n",
    "    votes= candi_votes.get(candidate)\n",
    "    vote_percent = float(votes) / float(total_votes) * 100\n",
    "    if (votes >winner_count):\n",
    "        winner_count = votes\n",
    "        winner = candidate\n",
    "    voter_results=f\"{candidate}: {vote_percent:.3f}% ({votes})\\n\"\n",
    "    print(voter_results)"
   ]
  },
  {
   "cell_type": "code",
   "execution_count": 199,
   "id": "4cd4fe6a",
   "metadata": {},
   "outputs": [
    {
     "name": "stdout",
     "output_type": "stream",
     "text": [
      "-------------\n",
      "Winner: Khan\n",
      "-------------\n",
      "\n"
     ]
    }
   ],
   "source": [
    "winner_summary= (\n",
    "f\"-------------\\n\"\n",
    "f\"Winner: {winner}\\n\"\n",
    "f\"-------------\\n\")\n",
    "\n",
    "print(winner_summary)"
   ]
  },
  {
   "cell_type": "code",
   "execution_count": 201,
   "id": "72e76e5a",
   "metadata": {},
   "outputs": [
    {
     "name": "stdout",
     "output_type": "stream",
     "text": [
      "\n",
      "Election Results\n",
      "---------------------\n",
      "Total: 3521001\n",
      "---------------------\n",
      "\n",
      "O'Tooley: 3.000% (105630)\n",
      "\n",
      "-------------\n",
      "Winner: Khan\n",
      "-------------\n",
      "\n"
     ]
    }
   ],
   "source": [
    "print(election_results)\n",
    "print(voter_results)\n",
    "print(winner_summary)"
   ]
  },
  {
   "cell_type": "code",
   "execution_count": null,
   "id": "ad58e187",
   "metadata": {},
   "outputs": [],
   "source": []
  }
 ],
 "metadata": {
  "kernelspec": {
   "display_name": "Python 3",
   "language": "python",
   "name": "python3"
  },
  "language_info": {
   "codemirror_mode": {
    "name": "ipython",
    "version": 3
   },
   "file_extension": ".py",
   "mimetype": "text/x-python",
   "name": "python",
   "nbconvert_exporter": "python",
   "pygments_lexer": "ipython3",
   "version": "3.8.8"
  }
 },
 "nbformat": 4,
 "nbformat_minor": 5
}
